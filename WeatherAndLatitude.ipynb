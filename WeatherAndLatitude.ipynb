{
 "cells": [
  {
   "cell_type": "code",
   "execution_count": 66,
   "metadata": {},
   "outputs": [],
   "source": [
    "# Dependencies\n",
    "import pandas as pd\n",
    "import matplotlib.pyplot as plt\n",
    "import random\n",
    "from citipy import citipy\n",
    "import csv\n",
    "import requests\n",
    "from config import OWM_api_key\n",
    "import time"
   ]
  },
  {
   "cell_type": "code",
   "execution_count": 67,
   "metadata": {},
   "outputs": [
    {
     "data": {
      "text/html": [
       "<div>\n",
       "<style>\n",
       "    .dataframe thead tr:only-child th {\n",
       "        text-align: right;\n",
       "    }\n",
       "\n",
       "    .dataframe thead th {\n",
       "        text-align: left;\n",
       "    }\n",
       "\n",
       "    .dataframe tbody tr th {\n",
       "        vertical-align: top;\n",
       "    }\n",
       "</style>\n",
       "<table border=\"1\" class=\"dataframe\">\n",
       "  <thead>\n",
       "    <tr style=\"text-align: right;\">\n",
       "      <th></th>\n",
       "      <th>City</th>\n",
       "      <th>Country</th>\n",
       "      <th>Latitude</th>\n",
       "      <th>Temperature</th>\n",
       "      <th>Humidity</th>\n",
       "      <th>Cloudiness</th>\n",
       "      <th>Wind Speed</th>\n",
       "    </tr>\n",
       "  </thead>\n",
       "  <tbody>\n",
       "    <tr>\n",
       "      <th>0</th>\n",
       "      <td>albany</td>\n",
       "      <td>AU</td>\n",
       "      <td>0</td>\n",
       "      <td>0</td>\n",
       "      <td>0</td>\n",
       "      <td>0</td>\n",
       "      <td>0</td>\n",
       "    </tr>\n",
       "    <tr>\n",
       "      <th>1</th>\n",
       "      <td>ushuaia</td>\n",
       "      <td>AR</td>\n",
       "      <td>0</td>\n",
       "      <td>0</td>\n",
       "      <td>0</td>\n",
       "      <td>0</td>\n",
       "      <td>0</td>\n",
       "    </tr>\n",
       "    <tr>\n",
       "      <th>2</th>\n",
       "      <td>port alfred</td>\n",
       "      <td>ZA</td>\n",
       "      <td>0</td>\n",
       "      <td>0</td>\n",
       "      <td>0</td>\n",
       "      <td>0</td>\n",
       "      <td>0</td>\n",
       "    </tr>\n",
       "    <tr>\n",
       "      <th>3</th>\n",
       "      <td>rikitea</td>\n",
       "      <td>PF</td>\n",
       "      <td>0</td>\n",
       "      <td>0</td>\n",
       "      <td>0</td>\n",
       "      <td>0</td>\n",
       "      <td>0</td>\n",
       "    </tr>\n",
       "    <tr>\n",
       "      <th>4</th>\n",
       "      <td>mataura</td>\n",
       "      <td>PF</td>\n",
       "      <td>0</td>\n",
       "      <td>0</td>\n",
       "      <td>0</td>\n",
       "      <td>0</td>\n",
       "      <td>0</td>\n",
       "    </tr>\n",
       "  </tbody>\n",
       "</table>\n",
       "</div>"
      ],
      "text/plain": [
       "          City Country  Latitude  Temperature  Humidity  Cloudiness  \\\n",
       "0       albany      AU         0            0         0           0   \n",
       "1      ushuaia      AR         0            0         0           0   \n",
       "2  port alfred      ZA         0            0         0           0   \n",
       "3      rikitea      PF         0            0         0           0   \n",
       "4      mataura      PF         0            0         0           0   \n",
       "\n",
       "   Wind Speed  \n",
       "0           0  \n",
       "1           0  \n",
       "2           0  \n",
       "3           0  \n",
       "4           0  "
      ]
     },
     "execution_count": 67,
     "metadata": {},
     "output_type": "execute_result"
    }
   ],
   "source": [
    "#Create a list of unique cities and create a dataframe.\n",
    "\n",
    "# Here is the logic :\n",
    "# Latitude values range from -90 to +90 degrees and longitude values range from -180 to +180 degrees.\n",
    "# Majority of world's landmass, countries and cities are located in the northern hemisphere.\n",
    "# The focus of this exercise is to understand how \n",
    "# the temperature, humidity, cloudiness and windspeed vary with latitude,\n",
    "# to get a good spread of data, for every latitude starting from -90 deg latitude (southern pole)\n",
    "# I tried to get 10 random longitudes. I used random.sample to get unique longtitude values.\n",
    "# I created a list to hold the unique city and country combinations.\n",
    "# I populated the this list by using citipy library for each latitude and longitude combination.\n",
    "# The list gets populated only with unique combinations.\n",
    "# I also tried to limit the number of chosen cities per latitude to 5 to make to get a more vaired spred.\n",
    "\n",
    "\n",
    "# create an empty list for the cities.\n",
    "citiesCountry=[]\n",
    "\n",
    "columns = ['City','Country']\n",
    "citiesCountryDf = pd.DataFrame()\n",
    "\n",
    "for i in range(-90,90): # looping through the latitudes\n",
    "    \n",
    "    lat = i + random.random() \n",
    "    lng = random.sample(range(-180,180),10) # randomly selecting 10 longitudes\n",
    "\n",
    "    k=0 # variables to count the number of cities per each latitude\n",
    "    for j in range(0,10):        \n",
    "        city = citipy.nearest_city(lat, lng[j]+random.random())\n",
    "        city_name = city.city_name\n",
    "        country_code = city.country_code\n",
    "        curCity = city_name + \",\" + country_code\n",
    "        if curCity not in citiesCountry:\n",
    "            citiesCountry.append(city_name + \",\" + country_code)\n",
    "            \n",
    "            # ADD THE CITY AND COUNTRY CODE TO THE citiesCountryDf\n",
    "            tempDf = pd.DataFrame({'City':city_name,'Country': country_code.upper()}, index = [0])\n",
    "            citiesCountryDf = citiesCountryDf.append(tempDf, ignore_index = True)\n",
    "           \n",
    "            k=k+1\n",
    "        if(k==5): # If you got 5 unique cities per latitude move on to the next one.\n",
    "            break\n",
    "# Expand the dataframe to include the fields for latitude, temperature, humidity, cloudiness and windspeed\n",
    "citiesCountryDf['Latitude']=0\n",
    "citiesCountryDf['Temperature']=0\n",
    "citiesCountryDf['Humidity']=0\n",
    "citiesCountryDf['Cloudiness']=0\n",
    "citiesCountryDf['Wind Speed']=0\n",
    "\n",
    "citiesCountryDf.head()"
   ]
  },
  {
   "cell_type": "code",
   "execution_count": 68,
   "metadata": {},
   "outputs": [],
   "source": [
    "\n",
    "# Save config information.\n",
    "url = \"http://api.openweathermap.org/data/2.5/weather?\"\n",
    "units = \"imperial\"\n",
    "\n",
    "# Build partial query URL\n",
    "query_url = f\"{url}appid={OWM_api_key}&units={units}&q=\"\n",
    "\n"
   ]
  },
  {
   "cell_type": "code",
   "execution_count": 69,
   "metadata": {},
   "outputs": [
    {
     "name": "stdout",
     "output_type": "stream",
     "text": [
      "http://api.openweathermap.org/data/2.5/weather?appid=63340cc13e489b8d48a66d2dedaaac62&units=imperial&q=albany,AU\n",
      "http://api.openweathermap.org/data/2.5/weather?appid=63340cc13e489b8d48a66d2dedaaac62&units=imperial&q=ushuaia,AR\n",
      "http://api.openweathermap.org/data/2.5/weather?appid=63340cc13e489b8d48a66d2dedaaac62&units=imperial&q=port%20alfred,ZA\n",
      "http://api.openweathermap.org/data/2.5/weather?appid=63340cc13e489b8d48a66d2dedaaac62&units=imperial&q=rikitea,PF\n",
      "http://api.openweathermap.org/data/2.5/weather?appid=63340cc13e489b8d48a66d2dedaaac62&units=imperial&q=mataura,PF\n",
      "http://api.openweathermap.org/data/2.5/weather?appid=63340cc13e489b8d48a66d2dedaaac62&units=imperial&q=punta%20arenas,CL\n"
     ]
    },
    {
     "data": {
      "text/plain": [
       "City           573\n",
       "Country        573\n",
       "Latitude       573\n",
       "Temperature    573\n",
       "Humidity       573\n",
       "Cloudiness     573\n",
       "Wind Speed     573\n",
       "dtype: int64"
      ]
     },
     "execution_count": 69,
     "metadata": {},
     "output_type": "execute_result"
    }
   ],
   "source": [
    "# Now that you have the city and country codes, time to make the API calls\n",
    "# Loop through the dataframe and perform a request for data on each city and country combo.\n",
    "# test for the first 5 city and country combo\n",
    "a=0\n",
    "for index, row in citiesCountryDf.iterrows():\n",
    "    # Sleep for 5 seconds before each API call\n",
    "    for i in range(10):\n",
    "        time.sleep(.5)\n",
    "   \n",
    "    target_url = \"\"\n",
    "    target_url =  query_url + row['City'].replace(\" \",\"%20\")+\",\"+row['Country']\n",
    "    print(target_url)\n",
    "    response = requests.get(target_url)\n",
    "    \n",
    "    if 200 <= response.status_code <= 299:\n",
    "        response = requests.get(target_url).json() \n",
    "        citiesCountryDf.loc[index,\"Latitude\"] = (response['coord']['lat'])\n",
    "        citiesCountryDf.loc[index,\"Temperature\"]=(response['main']['temp'])\n",
    "        citiesCountryDf.loc[index,\"Humidity\"]=(response['main']['humidity'])\n",
    "        citiesCountryDf.loc[index,\"Wind Speed\"]=(response['wind']['speed'])\n",
    "        citiesCountryDf.loc[index,\"Cloudiness\"]=(response['clouds']['all']) \n",
    "        a = a+1\n",
    "    else:\n",
    "        citiesCountryDf.drop(index, inplace=True)\n",
    "    \n",
    "    if(a==5):\n",
    "        break\n",
    "citiesCountryDf.count()  "
   ]
  },
  {
   "cell_type": "code",
   "execution_count": 70,
   "metadata": {},
   "outputs": [
    {
     "data": {
      "image/png": "[encoded data removed]",
      "text/plain": [
       "<matplotlib.figure.Figure at 0xb283f9b588>"
      ]
     },
     "metadata": {},
     "output_type": "display_data"
    }
   ],
   "source": [
    "# Build a scatter plot for Latitude Vs Temperature\n",
    "plt.scatter(citiesCountryDf[\"Latitude\"], citiesCountryDf[\"Temperature\"], marker=\"o\")\n",
    "\n",
    "# Incorporate the other graph properties\n",
    "plt.title(\"Temperature in World Cities\")\n",
    "plt.ylabel(\"Temperature(F)\")\n",
    "plt.xlabel(\"Latitude\")\n",
    "plt.grid(True)\n",
    "\n",
    "# Save the figure\n",
    "#plt.savefig(\"TemperatureInWorldCities.png\")\n",
    "\n",
    "# Show plot\n",
    "plt.show()"
   ]
  },
  {
   "cell_type": "code",
   "execution_count": 71,
   "metadata": {},
   "outputs": [
    {
     "data": {
      "image/png": "[encoded data removed]",
      "text/plain": [
       "<matplotlib.figure.Figure at 0xb282436748>"
      ]
     },
     "metadata": {},
     "output_type": "display_data"
    }
   ],
   "source": [
    "# Build a scatter plot for Latitude Vs Humidity\n",
    "plt.scatter(citiesCountryDf[\"Latitude\"], citiesCountryDf[\"Humidity\"], marker=\"o\")\n",
    "\n",
    "# Incorporate the other graph properties\n",
    "plt.title(\"Humidity in World Cities\")\n",
    "plt.ylabel(\"Humidity %\")\n",
    "plt.xlabel(\"Latitude\")\n",
    "plt.grid(True)\n",
    "\n",
    "# Save the figure\n",
    "#plt.savefig(\"TemperatureInWorldCities.png\")\n",
    "\n",
    "# Show plot\n",
    "plt.show()"
   ]
  },
  {
   "cell_type": "code",
   "execution_count": 72,
   "metadata": {},
   "outputs": [
    {
     "data": {
      "image/png": "[encoded data removed]",
      "text/plain": [
       "<matplotlib.figure.Figure at 0xb284039320>"
      ]
     },
     "metadata": {},
     "output_type": "display_data"
    }
   ],
   "source": [
    "# Build a scatter plot for Latitude Vs Wind Speed\n",
    "plt.scatter(citiesCountryDf[\"Latitude\"], citiesCountryDf[\"Wind Speed\"], marker=\"o\")\n",
    "\n",
    "# Incorporate the other graph properties\n",
    "plt.title(\"Wind Speedin World Cities\")\n",
    "plt.ylabel(\"Wind Speed (miles/hour) \")\n",
    "plt.xlabel(\"Latitude\")\n",
    "plt.grid(True)\n",
    "\n",
    "# Save the figure\n",
    "#plt.savefig(\"TemperatureInWorldCities.png\")\n",
    "\n",
    "# Show plot\n",
    "plt.show()"
   ]
  },
  {
   "cell_type": "code",
   "execution_count": 73,
   "metadata": {},
   "outputs": [
    {
     "data": {
      "image/png": "[encoded data removed]",
      "text/plain": [
       "<matplotlib.figure.Figure at 0xb2840b7128>"
      ]
     },
     "metadata": {},
     "output_type": "display_data"
    }
   ],
   "source": [
    "# Build a scatter plot for Latitude Vs Cloudiness\n",
    "plt.scatter(citiesCountryDf[\"Latitude\"], citiesCountryDf[\"Cloudiness\"], marker=\"o\")\n",
    "\n",
    "# Incorporate the other graph properties\n",
    "plt.title(\"Cloudiness in World Cities\")\n",
    "plt.ylabel(\"Cloudiness\")\n",
    "plt.xlabel(\"Latitude\")\n",
    "plt.grid(True)\n",
    "\n",
    "# Save the figure\n",
    "#plt.savefig(\"TemperatureInWorldCities.png\")\n",
    "\n",
    "# Show plot\n",
    "plt.show()"
   ]
  },
  {
   "cell_type": "code",
   "execution_count": null,
   "metadata": {
    "collapsed": true
   },
   "outputs": [],
   "source": []
  }
 ],
 "metadata": {
  "kernelspec": {
   "display_name": "Python [conda env:PythonData_3]",
   "language": "python",
   "name": "conda-env-PythonData_3-py"
  },
  "language_info": {
   "codemirror_mode": {
    "name": "ipython",
    "version": 3
   },
   "file_extension": ".py",
   "mimetype": "text/x-python",
   "name": "python",
   "nbconvert_exporter": "python",
   "pygments_lexer": "ipython3",
   "version": "3.6.3"
  }
 },
 "nbformat": 4,
 "nbformat_minor": 2
}
