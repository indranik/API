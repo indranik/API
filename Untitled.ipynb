{
 "cells": [
  {
   "cell_type": "code",
   "execution_count": 4,
   "metadata": {
    "collapsed": true
   },
   "outputs": [],
   "source": [
    "import pandas as pd\n",
    "import matplotlib as plt\n",
    "import random\n",
    "from citipy import citipy"
   ]
  },
  {
   "cell_type": "code",
   "execution_count": 30,
   "metadata": {},
   "outputs": [
    {
     "ename": "NameError",
     "evalue": "name 'upper' is not defined",
     "output_type": "error",
     "traceback": [
      "\u001b[1;31m---------------------------------------------------------------------------\u001b[0m",
      "\u001b[1;31mNameError\u001b[0m                                 Traceback (most recent call last)",
      "\u001b[1;32m<ipython-input-30-9398ef9e4d4b>\u001b[0m in \u001b[0;36m<module>\u001b[1;34m()\u001b[0m\n\u001b[0;32m     35\u001b[0m \u001b[1;33m\u001b[0m\u001b[0m\n\u001b[0;32m     36\u001b[0m             \u001b[1;31m# ADD THE CITY AND COUNTRY CODE TO THE citiesCountryDf\u001b[0m\u001b[1;33m\u001b[0m\u001b[1;33m\u001b[0m\u001b[0m\n\u001b[1;32m---> 37\u001b[1;33m             \u001b[0mtempDf\u001b[0m \u001b[1;33m=\u001b[0m \u001b[0mpd\u001b[0m\u001b[1;33m.\u001b[0m\u001b[0mDataFrame\u001b[0m\u001b[1;33m(\u001b[0m\u001b[1;33m{\u001b[0m\u001b[1;34m'City'\u001b[0m\u001b[1;33m:\u001b[0m\u001b[0mcity_name\u001b[0m\u001b[1;33m,\u001b[0m\u001b[1;34m'Country'\u001b[0m\u001b[1;33m:\u001b[0m \u001b[0mupper\u001b[0m\u001b[1;33m(\u001b[0m\u001b[0mcountry_code\u001b[0m\u001b[1;33m)\u001b[0m\u001b[1;33m}\u001b[0m\u001b[1;33m,\u001b[0m \u001b[0mindex\u001b[0m \u001b[1;33m=\u001b[0m \u001b[1;33m[\u001b[0m\u001b[1;36m0\u001b[0m\u001b[1;33m]\u001b[0m\u001b[1;33m)\u001b[0m\u001b[1;33m\u001b[0m\u001b[0m\n\u001b[0m\u001b[0;32m     38\u001b[0m             \u001b[0mcitiesCountryDf\u001b[0m \u001b[1;33m=\u001b[0m \u001b[0mcitiesCountryDf\u001b[0m\u001b[1;33m.\u001b[0m\u001b[0mappend\u001b[0m\u001b[1;33m(\u001b[0m\u001b[0mtempDf\u001b[0m\u001b[1;33m,\u001b[0m \u001b[0mignore_index\u001b[0m \u001b[1;33m=\u001b[0m \u001b[1;32mTrue\u001b[0m\u001b[1;33m)\u001b[0m\u001b[1;33m\u001b[0m\u001b[0m\n\u001b[0;32m     39\u001b[0m \u001b[1;33m\u001b[0m\u001b[0m\n",
      "\u001b[1;31mNameError\u001b[0m: name 'upper' is not defined"
     ]
    }
   ],
   "source": [
    "#Create a list of unique cities and create a dataframe.\n",
    "\n",
    "# Here is the logic :\n",
    "# Latitude values range from -90 to +90 degrees and longitude values range from -180 to +180 degrees.\n",
    "# Majority of world's landmass, countries and cities are located in the northern hemisphere.\n",
    "# The focus of this exercise is to understand how \n",
    "# the temperature, humidity, cloudiness and windspeed vary with latitude,\n",
    "# to get a good spread of data, for every latitude starting from -90 deg latitude (southern pole)\n",
    "# I tried to get 10 random longitudes. I used random.sample to get unique longtitude values.\n",
    "# I created a list to hold the unique city and country combinations.\n",
    "# I populated the this list by using citipy library for each latitude and longitude combination.\n",
    "# The list gets populated only with unique combinations.\n",
    "# I also tried to limit the number of chosen cities per latitude to 5 to make to get a more vaired spred.\n",
    "\n",
    "\n",
    "# create an empty list for the cities.\n",
    "citiesCountry=[]\n",
    "\n",
    "columns = ['City','Country']\n",
    "citiesCountryDf = pd.DataFrame()\n",
    "\n",
    "for i in range(-90,90): # looping through the latitudes\n",
    "    \n",
    "    lat = i + random.random() \n",
    "    lng = random.sample(range(-180,180),10) # randomly selecting 10 longitudes\n",
    "\n",
    "    k=0 # variables to count the number of cities per each latitude\n",
    "    for j in range(0,10):        \n",
    "        city = citipy.nearest_city(lat, lng[j]+random.random())\n",
    "        city_name = city.city_name\n",
    "        country_code = city.country_code\n",
    "        curCity = city_name + \",\" + country_code\n",
    "        if curCity not in citiesCountry:\n",
    "            citiesCountry.append(city_name + \",\" + country_code)\n",
    "            \n",
    "            # ADD THE CITY AND COUNTRY CODE TO THE citiesCountryDf\n",
    "            tempDf = pd.DataFrame({'City':city_name,'Country': country_code}, index = [0])\n",
    "            citiesCountryDf = citiesCountryDf.append(tempDf, ignore_index = True)\n",
    "           \n",
    "            k=k+1\n",
    "        if(k==5): # If you got 5 unique cities per latitude move on to the next one.\n",
    "            break\n",
    "\n",
    "print(len(citiesCountry))\n",
    "\n",
    "citiesCountryDf.head()"
   ]
  },
  {
   "cell_type": "code",
   "execution_count": null,
   "metadata": {
    "collapsed": true
   },
   "outputs": [],
   "source": []
  }
 ],
 "metadata": {
  "kernelspec": {
   "display_name": "Python [conda env:PythonData_3]",
   "language": "python",
   "name": "conda-env-PythonData_3-py"
  },
  "language_info": {
   "codemirror_mode": {
    "name": "ipython",
    "version": 3
   },
   "file_extension": ".py",
   "mimetype": "text/x-python",
   "name": "python",
   "nbconvert_exporter": "python",
   "pygments_lexer": "ipython3",
   "version": "3.6.3"
  }
 },
 "nbformat": 4,
 "nbformat_minor": 2
}
