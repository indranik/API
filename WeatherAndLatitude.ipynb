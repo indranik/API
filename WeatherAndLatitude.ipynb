{
 "cells": [
  {
   "cell_type": "code",
   "execution_count": 4,
   "metadata": {
    "collapsed": true
   },
   "outputs": [],
   "source": [
    "import pandas as pd\n",
    "import matplotlib as plt\n",
    "import random\n",
    "from citipy import citipy"
   ]
  },
  {
   "cell_type": "code",
   "execution_count": 31,
   "metadata": {},
   "outputs": [
    {
     "name": "stdout",
     "output_type": "stream",
     "text": [
      "577\n"
     ]
    },
    {
     "data": {
      "text/html": [
       "<div>\n",
       "<style>\n",
       "    .dataframe thead tr:only-child th {\n",
       "        text-align: right;\n",
       "    }\n",
       "\n",
       "    .dataframe thead th {\n",
       "        text-align: left;\n",
       "    }\n",
       "\n",
       "    .dataframe tbody tr th {\n",
       "        vertical-align: top;\n",
       "    }\n",
       "</style>\n",
       "<table border=\"1\" class=\"dataframe\">\n",
       "  <thead>\n",
       "    <tr style=\"text-align: right;\">\n",
       "      <th></th>\n",
       "      <th>City</th>\n",
       "      <th>Country</th>\n",
       "    </tr>\n",
       "  </thead>\n",
       "  <tbody>\n",
       "    <tr>\n",
       "      <th>0</th>\n",
       "      <td>albany</td>\n",
       "      <td>AU</td>\n",
       "    </tr>\n",
       "    <tr>\n",
       "      <th>1</th>\n",
       "      <td>bluff</td>\n",
       "      <td>NZ</td>\n",
       "    </tr>\n",
       "    <tr>\n",
       "      <th>2</th>\n",
       "      <td>punta arenas</td>\n",
       "      <td>CL</td>\n",
       "    </tr>\n",
       "    <tr>\n",
       "      <th>3</th>\n",
       "      <td>port elizabeth</td>\n",
       "      <td>ZA</td>\n",
       "    </tr>\n",
       "    <tr>\n",
       "      <th>4</th>\n",
       "      <td>ushuaia</td>\n",
       "      <td>AR</td>\n",
       "    </tr>\n",
       "  </tbody>\n",
       "</table>\n",
       "</div>"
      ],
      "text/plain": [
       "             City Country\n",
       "0          albany      AU\n",
       "1           bluff      NZ\n",
       "2    punta arenas      CL\n",
       "3  port elizabeth      ZA\n",
       "4         ushuaia      AR"
      ]
     },
     "execution_count": 31,
     "metadata": {},
     "output_type": "execute_result"
    }
   ],
   "source": [
    "#Create a list of unique cities and create a dataframe.\n",
    "\n",
    "# Here is the logic :\n",
    "# Latitude values range from -90 to +90 degrees and longitude values range from -180 to +180 degrees.\n",
    "# Majority of world's landmass, countries and cities are located in the northern hemisphere.\n",
    "# The focus of this exercise is to understand how \n",
    "# the temperature, humidity, cloudiness and windspeed vary with latitude,\n",
    "# to get a good spread of data, for every latitude starting from -90 deg latitude (southern pole)\n",
    "# I tried to get 10 random longitudes. I used random.sample to get unique longtitude values.\n",
    "# I created a list to hold the unique city and country combinations.\n",
    "# I populated the this list by using citipy library for each latitude and longitude combination.\n",
    "# The list gets populated only with unique combinations.\n",
    "# I also tried to limit the number of chosen cities per latitude to 5 to make to get a more vaired spred.\n",
    "\n",
    "\n",
    "# create an empty list for the cities.\n",
    "citiesCountry=[]\n",
    "\n",
    "columns = ['City','Country']\n",
    "citiesCountryDf = pd.DataFrame()\n",
    "\n",
    "for i in range(-90,90): # looping through the latitudes\n",
    "    \n",
    "    lat = i + random.random() \n",
    "    lng = random.sample(range(-180,180),10) # randomly selecting 10 longitudes\n",
    "\n",
    "    k=0 # variables to count the number of cities per each latitude\n",
    "    for j in range(0,10):        \n",
    "        city = citipy.nearest_city(lat, lng[j]+random.random())\n",
    "        city_name = city.city_name\n",
    "        country_code = city.country_code\n",
    "        curCity = city_name + \",\" + country_code\n",
    "        if curCity not in citiesCountry:\n",
    "            citiesCountry.append(city_name + \",\" + country_code)\n",
    "            \n",
    "            # ADD THE CITY AND COUNTRY CODE TO THE citiesCountryDf\n",
    "            tempDf = pd.DataFrame({'City':city_name,'Country': country_code.upper()}, index = [0])\n",
    "            citiesCountryDf = citiesCountryDf.append(tempDf, ignore_index = True)\n",
    "           \n",
    "            k=k+1\n",
    "        if(k==5): # If you got 5 unique cities per latitude move on to the next one.\n",
    "            break\n",
    "\n",
    "print(len(citiesCountry))\n",
    "\n",
    "citiesCountryDf.head()"
   ]
  },
  {
   "cell_type": "code",
   "execution_count": null,
   "metadata": {
    "collapsed": true
   },
   "outputs": [],
   "source": []
  }
 ],
 "metadata": {
  "kernelspec": {
   "display_name": "Python [conda env:PythonData_3]",
   "language": "python",
   "name": "conda-env-PythonData_3-py"
  },
  "language_info": {
   "codemirror_mode": {
    "name": "ipython",
    "version": 3
   },
   "file_extension": ".py",
   "mimetype": "text/x-python",
   "name": "python",
   "nbconvert_exporter": "python",
   "pygments_lexer": "ipython3",
   "version": "3.6.3"
  }
 },
 "nbformat": 4,
 "nbformat_minor": 2
}
